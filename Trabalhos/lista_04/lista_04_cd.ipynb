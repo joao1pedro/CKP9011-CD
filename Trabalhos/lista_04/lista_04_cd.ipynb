{
 "cells": [
  {
   "cell_type": "markdown",
   "id": "68ef09ed",
   "metadata": {},
   "source": [
    "# Crie um arquivo Jupyter Notebook e realize as seguintes operações:\n",
    "## a. Ler o dataset fakeTelegram.BR_2022.csv"
   ]
  },
  {
   "cell_type": "code",
   "execution_count": 1,
   "id": "d7b3c79d",
   "metadata": {},
   "outputs": [
    {
     "data": {
      "application/vnd.jupyter.widget-view+json": {
       "model_id": "791ad2de4d814a22bee087fe98f5fda0",
       "version_major": 2,
       "version_minor": 0
      },
      "text/plain": [
       "FloatProgress(value=0.0, layout=Layout(width='auto'), style=ProgressStyle(bar_color='black'))"
      ]
     },
     "metadata": {},
     "output_type": "display_data"
    }
   ],
   "source": [
    "import duckdb\n",
    "\n",
    "conn = duckdb.connect()\n",
    "\n",
    "telegram_data = conn.read_csv(\"../data/fakeTelegram.BR_2022.csv\")\n",
    "\n",
    "query = \"\"\"\n",
    "    SELECT * FROM telegram_data\n",
    "\"\"\"\n",
    "\n",
    "df = conn.execute(query).fetchdf()"
   ]
  },
  {
   "cell_type": "code",
   "execution_count": 3,
   "id": "bb9cf248",
   "metadata": {},
   "outputs": [
    {
     "data": {
      "text/html": [
       "<div>\n",
       "<style scoped>\n",
       "    .dataframe tbody tr th:only-of-type {\n",
       "        vertical-align: middle;\n",
       "    }\n",
       "\n",
       "    .dataframe tbody tr th {\n",
       "        vertical-align: top;\n",
       "    }\n",
       "\n",
       "    .dataframe thead th {\n",
       "        text-align: right;\n",
       "    }\n",
       "</style>\n",
       "<table border=\"1\" class=\"dataframe\">\n",
       "  <thead>\n",
       "    <tr style=\"text-align: right;\">\n",
       "      <th></th>\n",
       "      <th>date_message</th>\n",
       "      <th>id_member_anonymous</th>\n",
       "      <th>id_group_anonymous</th>\n",
       "      <th>media</th>\n",
       "      <th>media_type</th>\n",
       "      <th>media_url</th>\n",
       "      <th>has_media</th>\n",
       "      <th>has_media_url</th>\n",
       "      <th>trava_zap</th>\n",
       "      <th>text_content_anonymous</th>\n",
       "      <th>dataset_info_id</th>\n",
       "      <th>date_system</th>\n",
       "      <th>score_sentiment</th>\n",
       "      <th>score_misinformation</th>\n",
       "      <th>id_message</th>\n",
       "      <th>message_type</th>\n",
       "      <th>messenger</th>\n",
       "      <th>media_name</th>\n",
       "      <th>media_md5</th>\n",
       "    </tr>\n",
       "  </thead>\n",
       "  <tbody>\n",
       "    <tr>\n",
       "      <th>0</th>\n",
       "      <td>2022-10-05 06:25:04</td>\n",
       "      <td>1078cc958f0febe28f4d03207660715f</td>\n",
       "      <td>12283e08a2eb5789201e105b34489ee7</td>\n",
       "      <td>None</td>\n",
       "      <td>None</td>\n",
       "      <td>None</td>\n",
       "      <td>False</td>\n",
       "      <td>False</td>\n",
       "      <td>False</td>\n",
       "      <td>Então é Fato Renato o áudio que eu ouvi no wha...</td>\n",
       "      <td>5</td>\n",
       "      <td>2022-10-05 06:25:28.863641</td>\n",
       "      <td>0.0000</td>\n",
       "      <td>NaN</td>\n",
       "      <td>16385</td>\n",
       "      <td>Texto</td>\n",
       "      <td>telegram</td>\n",
       "      <td>None</td>\n",
       "      <td>None</td>\n",
       "    </tr>\n",
       "    <tr>\n",
       "      <th>1</th>\n",
       "      <td>2022-10-05 06:25:08</td>\n",
       "      <td>None</td>\n",
       "      <td>12283e08a2eb5789201e105b34489ee7</td>\n",
       "      <td>None</td>\n",
       "      <td>None</td>\n",
       "      <td>None</td>\n",
       "      <td>False</td>\n",
       "      <td>False</td>\n",
       "      <td>False</td>\n",
       "      <td>Saiu no YouTube do presidente a 8 horas atrás,...</td>\n",
       "      <td>5</td>\n",
       "      <td>2022-10-05 06:25:28.926311</td>\n",
       "      <td>0.0644</td>\n",
       "      <td>NaN</td>\n",
       "      <td>16386</td>\n",
       "      <td>Texto</td>\n",
       "      <td>telegram</td>\n",
       "      <td>None</td>\n",
       "      <td>None</td>\n",
       "    </tr>\n",
       "    <tr>\n",
       "      <th>2</th>\n",
       "      <td>2022-10-05 06:26:28</td>\n",
       "      <td>92a2d8fd7144074f659d1d29dc3751da</td>\n",
       "      <td>9f2d7394334eb224c061c9740b5748fc</td>\n",
       "      <td>None</td>\n",
       "      <td>None</td>\n",
       "      <td>None</td>\n",
       "      <td>False</td>\n",
       "      <td>False</td>\n",
       "      <td>False</td>\n",
       "      <td>É isso, nossa parte já foi quase toda feita. N...</td>\n",
       "      <td>5</td>\n",
       "      <td>2022-10-05 06:26:29.361949</td>\n",
       "      <td>-0.3551</td>\n",
       "      <td>0.157242</td>\n",
       "      <td>16366</td>\n",
       "      <td>Texto</td>\n",
       "      <td>telegram</td>\n",
       "      <td>None</td>\n",
       "      <td>None</td>\n",
       "    </tr>\n",
       "    <tr>\n",
       "      <th>3</th>\n",
       "      <td>2022-10-05 06:27:28</td>\n",
       "      <td>d60aa38f62b4977426b70944af4aff72</td>\n",
       "      <td>c8f2de56550ed0bf85249608b7ead93d</td>\n",
       "      <td>94dca4cda503100ebfda7ce2bcc060eb.jpg</td>\n",
       "      <td>image/jpg</td>\n",
       "      <td>None</td>\n",
       "      <td>True</td>\n",
       "      <td>False</td>\n",
       "      <td>False</td>\n",
       "      <td>GENTE ACHEI ELES EM UMA SEITA MAÇONÁRICA</td>\n",
       "      <td>5</td>\n",
       "      <td>2022-10-05 06:27:29.935624</td>\n",
       "      <td>0.0000</td>\n",
       "      <td>NaN</td>\n",
       "      <td>19281</td>\n",
       "      <td>Imagem</td>\n",
       "      <td>telegram</td>\n",
       "      <td>None</td>\n",
       "      <td>94dca4cda503100ebfda7ce2bcc060eb</td>\n",
       "    </tr>\n",
       "    <tr>\n",
       "      <th>4</th>\n",
       "      <td>2022-10-05 06:27:44</td>\n",
       "      <td>cd6979b0b5265f08468fa1689b6300ce</td>\n",
       "      <td>e56ec342fc599ebb4ed89655eb6f03aa</td>\n",
       "      <td>5ad5c8bbe9da93a37fecf3e5aa5b0637.jpg</td>\n",
       "      <td>image/jpg</td>\n",
       "      <td>None</td>\n",
       "      <td>True</td>\n",
       "      <td>False</td>\n",
       "      <td>False</td>\n",
       "      <td>None</td>\n",
       "      <td>5</td>\n",
       "      <td>2022-10-05 06:28:29.316325</td>\n",
       "      <td>NaN</td>\n",
       "      <td>NaN</td>\n",
       "      <td>507185</td>\n",
       "      <td>Imagem</td>\n",
       "      <td>telegram</td>\n",
       "      <td>None</td>\n",
       "      <td>5ad5c8bbe9da93a37fecf3e5aa5b0637</td>\n",
       "    </tr>\n",
       "  </tbody>\n",
       "</table>\n",
       "</div>"
      ],
      "text/plain": [
       "         date_message               id_member_anonymous  \\\n",
       "0 2022-10-05 06:25:04  1078cc958f0febe28f4d03207660715f   \n",
       "1 2022-10-05 06:25:08                              None   \n",
       "2 2022-10-05 06:26:28  92a2d8fd7144074f659d1d29dc3751da   \n",
       "3 2022-10-05 06:27:28  d60aa38f62b4977426b70944af4aff72   \n",
       "4 2022-10-05 06:27:44  cd6979b0b5265f08468fa1689b6300ce   \n",
       "\n",
       "                 id_group_anonymous                                 media  \\\n",
       "0  12283e08a2eb5789201e105b34489ee7                                  None   \n",
       "1  12283e08a2eb5789201e105b34489ee7                                  None   \n",
       "2  9f2d7394334eb224c061c9740b5748fc                                  None   \n",
       "3  c8f2de56550ed0bf85249608b7ead93d  94dca4cda503100ebfda7ce2bcc060eb.jpg   \n",
       "4  e56ec342fc599ebb4ed89655eb6f03aa  5ad5c8bbe9da93a37fecf3e5aa5b0637.jpg   \n",
       "\n",
       "  media_type media_url  has_media  has_media_url  trava_zap  \\\n",
       "0       None      None      False          False      False   \n",
       "1       None      None      False          False      False   \n",
       "2       None      None      False          False      False   \n",
       "3  image/jpg      None       True          False      False   \n",
       "4  image/jpg      None       True          False      False   \n",
       "\n",
       "                              text_content_anonymous  dataset_info_id  \\\n",
       "0  Então é Fato Renato o áudio que eu ouvi no wha...                5   \n",
       "1  Saiu no YouTube do presidente a 8 horas atrás,...                5   \n",
       "2  É isso, nossa parte já foi quase toda feita. N...                5   \n",
       "3           GENTE ACHEI ELES EM UMA SEITA MAÇONÁRICA                5   \n",
       "4                                               None                5   \n",
       "\n",
       "                 date_system  score_sentiment  score_misinformation  \\\n",
       "0 2022-10-05 06:25:28.863641           0.0000                   NaN   \n",
       "1 2022-10-05 06:25:28.926311           0.0644                   NaN   \n",
       "2 2022-10-05 06:26:29.361949          -0.3551              0.157242   \n",
       "3 2022-10-05 06:27:29.935624           0.0000                   NaN   \n",
       "4 2022-10-05 06:28:29.316325              NaN                   NaN   \n",
       "\n",
       "   id_message message_type messenger media_name  \\\n",
       "0       16385        Texto  telegram       None   \n",
       "1       16386        Texto  telegram       None   \n",
       "2       16366        Texto  telegram       None   \n",
       "3       19281       Imagem  telegram       None   \n",
       "4      507185       Imagem  telegram       None   \n",
       "\n",
       "                          media_md5  \n",
       "0                              None  \n",
       "1                              None  \n",
       "2                              None  \n",
       "3  94dca4cda503100ebfda7ce2bcc060eb  \n",
       "4  5ad5c8bbe9da93a37fecf3e5aa5b0637  "
      ]
     },
     "execution_count": 3,
     "metadata": {},
     "output_type": "execute_result"
    }
   ],
   "source": [
    "df.head()"
   ]
  },
  {
   "cell_type": "code",
   "execution_count": 4,
   "id": "01314193",
   "metadata": {},
   "outputs": [
    {
     "data": {
      "text/plain": [
       "(557586, 19)"
      ]
     },
     "execution_count": 4,
     "metadata": {},
     "output_type": "execute_result"
    }
   ],
   "source": [
    "df.shape"
   ]
  },
  {
   "cell_type": "markdown",
   "id": "750f92aa",
   "metadata": {},
   "source": [
    "## b. Remova os trava-zaps."
   ]
  },
  {
   "cell_type": "code",
   "execution_count": null,
   "id": "9c02c27a",
   "metadata": {},
   "outputs": [],
   "source": [
    "df = conn.execute(f\"\"\"\n",
    "    SELECT * \n",
    "    FROM telegram_data\n",
    "    WHERE trava_zap IS NOT TRUE\n",
    "\"\"\").fetch_df()"
   ]
  },
  {
   "cell_type": "code",
   "execution_count": 6,
   "id": "92b940e4",
   "metadata": {},
   "outputs": [
    {
     "data": {
      "text/plain": [
       "(557570, 19)"
      ]
     },
     "execution_count": 6,
     "metadata": {},
     "output_type": "execute_result"
    }
   ],
   "source": [
    "df.shape"
   ]
  },
  {
   "cell_type": "markdown",
   "id": "7670059f",
   "metadata": {},
   "source": [
    "## c. Remover as linhas repetidas (duplicadas)."
   ]
  },
  {
   "cell_type": "code",
   "execution_count": null,
   "id": "e8275104",
   "metadata": {},
   "outputs": [],
   "source": [
    "df_ = conn.execute(\"SELECT DISTINCT * FROM df\").fetch_df()"
   ]
  },
  {
   "cell_type": "markdown",
   "id": "c4b5ddb5",
   "metadata": {},
   "source": [
    "## d. Remover textos com menos de 5 palavras."
   ]
  },
  {
   "cell_type": "code",
   "execution_count": null,
   "id": "8a3064a3",
   "metadata": {},
   "outputs": [],
   "source": [
    "query = \"\"\"\n",
    "SELECT *\n",
    "FROM df_\n",
    "WHERE array_length(string_split(text_content_anonymous, ' ')) >= 5\n",
    "\"\"\"\n",
    "\n",
    "df = conn.execute(query).fetch_df()"
   ]
  },
  {
   "cell_type": "code",
   "execution_count": 9,
   "id": "8f77f102",
   "metadata": {},
   "outputs": [
    {
     "name": "stdout",
     "output_type": "stream",
     "text": [
      "Collecting sqlalchemy\n",
      "  Downloading sqlalchemy-2.0.41-cp312-cp312-win_amd64.whl.metadata (9.8 kB)\n",
      "Collecting psycopg2-binary\n",
      "  Downloading psycopg2_binary-2.9.10-cp312-cp312-win_amd64.whl.metadata (5.0 kB)\n",
      "Collecting python-dotenv\n",
      "  Downloading python_dotenv-1.1.0-py3-none-any.whl.metadata (24 kB)\n",
      "Collecting greenlet>=1 (from sqlalchemy)\n",
      "  Downloading greenlet-3.2.2-cp312-cp312-win_amd64.whl.metadata (4.2 kB)\n",
      "Requirement already satisfied: typing-extensions>=4.6.0 in c:\\users\\pedro.santiago\\appdata\\local\\miniforge3\\envs\\cd\\lib\\site-packages (from sqlalchemy) (4.13.2)\n",
      "Downloading sqlalchemy-2.0.41-cp312-cp312-win_amd64.whl (2.1 MB)\n",
      "   ---------------------------------------- 0.0/2.1 MB ? eta -:--:--\n",
      "   ---------------------------------------- 0.0/2.1 MB ? eta -:--:--\n",
      "   ---------------------------------------- 0.0/2.1 MB ? eta -:--:--\n",
      "   ---------------------------------------- 0.0/2.1 MB ? eta -:--:--\n",
      "   ---- ----------------------------------- 0.3/2.1 MB ? eta -:--:--\n",
      "   ---- ----------------------------------- 0.3/2.1 MB ? eta -:--:--\n",
      "   --------- ------------------------------ 0.5/2.1 MB 598.5 kB/s eta 0:00:03\n",
      "   -------------- ------------------------- 0.8/2.1 MB 670.4 kB/s eta 0:00:02\n",
      "   ------------------- -------------------- 1.0/2.1 MB 751.1 kB/s eta 0:00:02\n",
      "   ------------------- -------------------- 1.0/2.1 MB 751.1 kB/s eta 0:00:02\n",
      "   ------------------------ --------------- 1.3/2.1 MB 828.3 kB/s eta 0:00:01\n",
      "   ---------------------------------- ----- 1.8/2.1 MB 949.2 kB/s eta 0:00:01\n",
      "   ---------------------------------------- 2.1/2.1 MB 994.3 kB/s eta 0:00:00\n",
      "Downloading psycopg2_binary-2.9.10-cp312-cp312-win_amd64.whl (1.2 MB)\n",
      "   ---------------------------------------- 0.0/1.2 MB ? eta -:--:--\n",
      "   --------- ------------------------------ 0.3/1.2 MB ? eta -:--:--\n",
      "   --------------------------- ------------ 0.8/1.2 MB 2.2 MB/s eta 0:00:01\n",
      "   ---------------------------------------- 1.2/1.2 MB 2.3 MB/s eta 0:00:00\n",
      "Downloading python_dotenv-1.1.0-py3-none-any.whl (20 kB)\n",
      "Downloading greenlet-3.2.2-cp312-cp312-win_amd64.whl (296 kB)\n",
      "Installing collected packages: python-dotenv, psycopg2-binary, greenlet, sqlalchemy\n",
      "\n",
      "   ---------- ----------------------------- 1/4 [psycopg2-binary]\n",
      "   -------------------- ------------------- 2/4 [greenlet]\n",
      "   -------------------- ------------------- 2/4 [greenlet]\n",
      "   ------------------------------ --------- 3/4 [sqlalchemy]\n",
      "   ------------------------------ --------- 3/4 [sqlalchemy]\n",
      "   ------------------------------ --------- 3/4 [sqlalchemy]\n",
      "   ------------------------------ --------- 3/4 [sqlalchemy]\n",
      "   ------------------------------ --------- 3/4 [sqlalchemy]\n",
      "   ------------------------------ --------- 3/4 [sqlalchemy]\n",
      "   ------------------------------ --------- 3/4 [sqlalchemy]\n",
      "   ------------------------------ --------- 3/4 [sqlalchemy]\n",
      "   ------------------------------ --------- 3/4 [sqlalchemy]\n",
      "   ------------------------------ --------- 3/4 [sqlalchemy]\n",
      "   ------------------------------ --------- 3/4 [sqlalchemy]\n",
      "   ------------------------------ --------- 3/4 [sqlalchemy]\n",
      "   ------------------------------ --------- 3/4 [sqlalchemy]\n",
      "   ------------------------------ --------- 3/4 [sqlalchemy]\n",
      "   ------------------------------ --------- 3/4 [sqlalchemy]\n",
      "   ------------------------------ --------- 3/4 [sqlalchemy]\n",
      "   ------------------------------ --------- 3/4 [sqlalchemy]\n",
      "   ---------------------------------------- 4/4 [sqlalchemy]\n",
      "\n",
      "Successfully installed greenlet-3.2.2 psycopg2-binary-2.9.10 python-dotenv-1.1.0 sqlalchemy-2.0.41\n"
     ]
    }
   ],
   "source": [
    "!pip install sqlalchemy psycopg2-binary python-dotenv"
   ]
  },
  {
   "cell_type": "markdown",
   "id": "7319cad8",
   "metadata": {},
   "source": [
    "# Utilizando o PostgreSQL e o Metabase faça as seguintes operações:\n",
    "## a. Crie dashboards para apresentar:"
   ]
  },
  {
   "cell_type": "code",
   "execution_count": null,
   "id": "d6efdbec",
   "metadata": {},
   "outputs": [
    {
     "name": "stdout",
     "output_type": "stream",
     "text": [
      "DataFrame inserido com sucesso na tabela 'mytable'.\n"
     ]
    }
   ],
   "source": [
    "from sqlalchemy import create_engine\n",
    "from dotenv import load_dotenv\n",
    "import os\n",
    "\n",
    "load_dotenv()\n",
    "\n",
    "DB_USER = os.getenv('DB_USER')\n",
    "DB_PASSWORD = os.getenv('DB_PASSWD')\n",
    "DB_HOST = os.getenv('DB_HOST')\n",
    "DB_PORT = os.getenv('DB_PORT')\n",
    "DB_NAME = os.getenv('DB_NAME')\n",
    "\n",
    "DATABASE_URL = f\"postgresql+psycopg2://{DB_USER}:{DB_PASSWORD}@{DB_HOST}:{DB_PORT}/{DB_NAME}\"\n",
    "\n",
    "engine = create_engine(DATABASE_URL)\n",
    "\n",
    "table_name = 'mytable'\n",
    "\n",
    "try:\n",
    "    df.to_sql(table_name, engine, if_exists='replace', index=False)\n",
    "    print(f\"DataFrame inserido com sucesso na tabela '{table_name}'.\")\n",
    "except Exception as e:\n",
    "    print(f\"Erro ao inserir o DataFrame: {e}\")\n",
    "finally:\n",
    "    engine.dispose()"
   ]
  },
  {
   "cell_type": "markdown",
   "id": "0d499574",
   "metadata": {},
   "source": [
    "### 1. As quantidades de grupos, usuários e mensagens;"
   ]
  },
  {
   "cell_type": "code",
   "execution_count": null,
   "id": "4d0f6aa4",
   "metadata": {},
   "outputs": [],
   "source": []
  }
 ],
 "metadata": {
  "kernelspec": {
   "display_name": "cd",
   "language": "python",
   "name": "python3"
  },
  "language_info": {
   "codemirror_mode": {
    "name": "ipython",
    "version": 3
   },
   "file_extension": ".py",
   "mimetype": "text/x-python",
   "name": "python",
   "nbconvert_exporter": "python",
   "pygments_lexer": "ipython3",
   "version": "3.12.10"
  }
 },
 "nbformat": 4,
 "nbformat_minor": 5
}
